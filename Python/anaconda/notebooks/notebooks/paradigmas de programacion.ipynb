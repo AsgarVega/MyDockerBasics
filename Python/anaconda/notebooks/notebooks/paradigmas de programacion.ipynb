{
 "cells": [
  {
   "cell_type": "markdown",
   "id": "41b7e977",
   "metadata": {},
   "source": [
    "Python admite tres tipos de paradigmas de programación\n",
    " - Paradigmas de programación orientada a objetos\n",
    " - Paradigmas de programación orientada a procedimientos\n",
    " - Paradigmas de programación funcional\n",
    " </br>\n",
    "https://es.acervolima.com/paradigmas-de-programacion-en-python/"
   ]
  },
  {
   "cell_type": "markdown",
   "id": "c68581fc",
   "metadata": {},
   "source": [
    "<b>Ejemplo.</b>Las cadenas tienen un método upper que convierte la cadena en mayúsculas.\n",
    "Para aplicar este método a la cadena c se utiliza la instrucción c.upper()."
   ]
  },
  {
   "cell_type": "code",
   "execution_count": null,
   "id": "880e46ad",
   "metadata": {},
   "outputs": [],
   "source": [
    "c = 'Python'\n",
    "c.upper()    # Llamada al método upper del objeto c (cadena)"
   ]
  },
  {
   "cell_type": "markdown",
   "id": "aa6ff4f4",
   "metadata": {},
   "source": [
    "<b>Ejemplo.</b> Las listas tienen un método append que convierte añade un elemento al final de la lista.\n",
    "Para aplicar este método a la lista l se utiliza la instrucción l.append(<elemento>)."
   ]
  },
  {
   "cell_type": "code",
   "execution_count": null,
   "id": "1bcb9267",
   "metadata": {},
   "outputs": [],
   "source": [
    "l =  [1, 2, 3]     \n",
    "l.append(4)         # Llamada al método append del objeto l (lista)\n",
    "l"
   ]
  },
  {
   "cell_type": "markdown",
   "id": "9ad15637",
   "metadata": {},
   "source": [
    "Para declarar una clase se utiliza la palabra clave class seguida del nombre de la clase y dos puntos,\n",
    "de acuerdo a la siguiente sintaxis:\n",
    "<div><code>class &lt;nombre-clase&gt;:<br>\n",
    "     &lt;atributos&gt;<br>\n",
    "     &lt;métodos&gt;</code></div><br>\n",
    "Los atributos se definen igual que las variables mientras que los métodos se definen igual que las\n",
    "funciones. Tanto unos como otros tienen que estar indentados por 4 espacios en el cuerpo de la clase."
   ]
  },
  {
   "cell_type": "code",
   "execution_count": null,
   "id": "8a6a4bc9",
   "metadata": {},
   "outputs": [],
   "source": [
    "class Saludo:\n",
    "    \n",
    "    def __init__(self,texto,langs):\n",
    "        self.texto = texto\n",
    "        self.idioma = langs\n",
    "    def saludar(self,ids):\n",
    "        for element in self.idioma:\n",
    "            if((ids == element) and (element == 'ES')):\n",
    "                texto = 'hola'\n",
    "                return texto\n",
    "        return 'Not Supported'\n",
    "\n",
    "solin = Saludo('',['ES'])\n",
    "\n",
    "solin.saludar('ES')"
   ]
  },
  {
   "cell_type": "code",
   "execution_count": null,
   "id": "134bc320",
   "metadata": {},
   "outputs": [],
   "source": []
  }
 ],
 "metadata": {
  "kernelspec": {
   "display_name": "Python 3.9.12 ('base')",
   "language": "python",
   "name": "python3"
  },
  "language_info": {
   "codemirror_mode": {
    "name": "ipython",
    "version": 3
   },
   "file_extension": ".py",
   "mimetype": "text/x-python",
   "name": "python",
   "nbconvert_exporter": "python",
   "pygments_lexer": "ipython3",
   "version": "3.9.12"
  },
  "vscode": {
   "interpreter": {
    "hash": "d4d1e4263499bec80672ea0156c357c1ee493ec2b1c70f0acce89fc37c4a6abe"
   }
  }
 },
 "nbformat": 4,
 "nbformat_minor": 5
}
