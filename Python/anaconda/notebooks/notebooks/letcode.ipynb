{
 "cells": [
  {
   "cell_type": "markdown",
   "metadata": {},
   "source": [
    "LeetCode problems\n",
    "https://leetcode.com/progress/"
   ]
  },
  {
   "cell_type": "code",
   "execution_count": 1,
   "metadata": {},
   "outputs": [],
   "source": [
    "# Se importa para soportar la notacion python3\n",
    "from typing import *\n",
    "\n",
    "# Definition for singly-linked list.\n",
    "class ListNode:\n",
    "    def __init__(self, val=0, next=None):\n",
    "        self.val = val\n",
    "        self.next = next"
   ]
  },
  {
   "cell_type": "markdown",
   "metadata": {},
   "source": [
    "1- Two Sum\n",
    "\n",
    "Given an array of integers nums and an integer target, return indices of the two numbers such that they add up to target.\n",
    "\n",
    "You may assume that each input would have exactly one solution, and you may not use the same element twice.\n",
    "\n",
    "You can return the answer in any order.\n",
    "\n",
    "Example 1:\n",
    "Input: nums = [2,7,11,15], target = 9\n",
    "Output: [0,1]\n",
    "Explanation: Because nums[0] + nums[1] == 9, we return [0, 1].\n",
    "\n",
    "Example 2:\n",
    "Input: nums = [3,2,4], target = 6\n",
    "Output: [1,2]\n",
    "\n",
    "Example 3:\n",
    "Input: nums = [3,3], target = 6\n",
    "Output: [0,1] \n",
    "\n",
    "Constraints:\n",
    "2 <= nums.length <= 104\n",
    "-109 <= nums[i] <= 109\n",
    "-109 <= target <= 109\n",
    "Only one valid answer exists."
   ]
  },
  {
   "cell_type": "code",
   "execution_count": 2,
   "metadata": {},
   "outputs": [],
   "source": [
    "class Solution:\n",
    "    def twoSum(self, nums: List[int], target: int) -> List[int]:\n",
    "        a = 0\n",
    "        b = 1\n",
    "        c = len(nums)\n",
    "        while nums[a]+nums[b] != target:\n",
    "            b+=1\n",
    "            if b >= c:\n",
    "                a+=1\n",
    "                b=a+1\n",
    "        return (a,b)"
   ]
  },
  {
   "cell_type": "code",
   "execution_count": 3,
   "metadata": {},
   "outputs": [
    {
     "name": "stdout",
     "output_type": "stream",
     "text": [
      "(1, 3)\n"
     ]
    }
   ],
   "source": [
    "sol = Solution()\n",
    "print(sol.twoSum(nums=[4,2,4,3],target=5))"
   ]
  },
  {
   "cell_type": "markdown",
   "metadata": {},
   "source": [
    "2- Add Two Numbers\n",
    "You are given two non-empty linked lists representing two non-negative integers. The digits are stored in reverse order, and each of their nodes contains a single digit. Add the two numbers and return the sum as a linked list.\n",
    "\n",
    "You may assume the two numbers do not contain any leading zero, except the number 0 itself.\n",
    "\n",
    "Example 1:\n",
    "Input: l1 = [2,4,3], l2 = [5,6,4]\n",
    "Output: [7,0,8]\n",
    "Explanation: 342 + 465 = 807.\n",
    "\n",
    "Example 2:\n",
    "Input: l1 = [0], l2 = [0]\n",
    "Output: [0]\n",
    "\n",
    "Example 3:\n",
    "Input: l1 = [9,9,9,9,9,9,9], l2 = [9,9,9,9]\n",
    "Output: [8,9,9,9,0,0,0,1]\n",
    "\n",
    "Constraints:\n",
    "The number of nodes in each linked list is in the range [1, 100].\n",
    "0 <= Node.val <= 9\n",
    "It is guaranteed that the list represents a number that does not have leading zeros."
   ]
  },
  {
   "cell_type": "code",
   "execution_count": 21,
   "metadata": {},
   "outputs": [],
   "source": [
    "class Solution:\n",
    "    def addTwoNumbers(self, l1: Optional[ListNode], l2: Optional[ListNode]) -> Optional[ListNode]:\n",
    "        if isinstance(l1,ListNode):\n",
    "            tmp = l1\n",
    "            c1 = []\n",
    "            while True:\n",
    "                c1.append(tmp.val)\n",
    "                if tmp.next!=None:\n",
    "                    tmp=tmp.next\n",
    "                else:\n",
    "                    break\n",
    "        else:\n",
    "            c1=l1\n",
    "        if isinstance(l2,ListNode):\n",
    "            tmp = l2\n",
    "            c2 = []\n",
    "            while True:\n",
    "                c2.append(tmp.val)\n",
    "                if tmp.next!=None:\n",
    "                    tmp=tmp.next\n",
    "                else:\n",
    "                    break\n",
    "        else:\n",
    "            c2=l2\n",
    "        \n",
    "        \n",
    "        c1 = c1[::-1]\n",
    "        s = [str(integer) for integer in c1]\n",
    "        s = \"\".join(s)\n",
    "        c1 = int(s)\n",
    "        \n",
    "        c2 = c2[::-1]\n",
    "        s = [str(integer) for integer in c2]\n",
    "        s = \"\".join(s)\n",
    "        c2 = int(s)\n",
    "        \n",
    "        res = c1 + c2\n",
    "        print(res)\n",
    "        ln = ListNode()    \n",
    "        tmp = None\n",
    "        for x in str(res):\n",
    "            a = ListNode(val=int(x), next=tmp)\n",
    "            tmp = a\n",
    "        ln=a\n",
    "        \n",
    "        return ln\n",
    "        "
   ]
  },
  {
   "cell_type": "code",
   "execution_count": 22,
   "metadata": {},
   "outputs": [
    {
     "name": "stdout",
     "output_type": "stream",
     "text": [
      "42\n"
     ]
    },
    {
     "data": {
      "text/plain": [
       "<__main__.ListNode at 0x7f16c6c477f0>"
      ]
     },
     "execution_count": 22,
     "metadata": {},
     "output_type": "execute_result"
    }
   ],
   "source": [
    "sol = Solution()\n",
    "sol.addTwoNumbers(l1 =ListNode(val=1,next=ListNode(val=2)), l2 = [1,2])"
   ]
  },
  {
   "cell_type": "markdown",
   "metadata": {},
   "source": [
    "3- Longest Substring Without Repeating Characters\n",
    "Given a string s, find the length of the longest substring without repeating characters.\n",
    "\n",
    "Example 1:\n",
    "Input: s = \"abcabcbb\"\n",
    "Output: 3\n",
    "Explanation: The answer is \"abc\", with the length of 3.\n",
    "\n",
    "Example 2:\n",
    "Input: s = \"bbbbb\"\n",
    "Output: 1\n",
    "Explanation: The answer is \"b\", with the length of 1.\n",
    "\n",
    "Example 3:\n",
    "Input: s = \"pwwkew\"\n",
    "Output: 3\n",
    "Explanation: The answer is \"wke\", with the length of 3.\n",
    "Notice that the answer must be a substring, \"pwke\" is a subsequence and not a substring.\n",
    "\n",
    "Constraints:\n",
    "0 <= s.length <= 5 * 104\n",
    "s consists of English letters, digits, symbols and spaces."
   ]
  },
  {
   "cell_type": "code",
   "execution_count": 37,
   "metadata": {},
   "outputs": [
    {
     "name": "stdout",
     "output_type": "stream",
     "text": [
      "b   b   0\n",
      "1 True\n",
      "b   b   0\n",
      "1 True\n",
      "b   b   0\n",
      "1 True\n",
      "b   b   0\n",
      "1 True\n",
      "b   b   0\n",
      "1 True\n",
      "b   b   0\n",
      "1 True\n",
      "   b   0\n",
      "-6 False\n",
      "   b   0\n",
      "-5 False\n",
      "   b   0\n",
      "-4 False\n",
      "   b   0\n",
      "-3 False\n",
      "   b   0\n",
      "-2 False\n",
      "   b   0\n",
      "-1 False\n",
      "   b   0\n",
      "0 True\n"
     ]
    },
    {
     "ename": "IndexError",
     "evalue": "string index out of range",
     "output_type": "error",
     "traceback": [
      "\u001b[0;31m---------------------------------------------------------------------------\u001b[0m",
      "\u001b[0;31mIndexError\u001b[0m                                Traceback (most recent call last)",
      "\u001b[1;32m/opt/notebooks/notebooks/letcode.ipynb Celda 10\u001b[0m in \u001b[0;36m<cell line: 25>\u001b[0;34m()\u001b[0m\n\u001b[1;32m     <a href='vscode-notebook-cell://attached-container%2B7b22636f6e7461696e65724e616d65223a222f616e61636f6e64612d616e61636f6e6461332d31227d/opt/notebooks/notebooks/letcode.ipynb#ch0000014vscode-remote?line=21'>22</a>\u001b[0m         \u001b[39mreturn\u001b[39;00m \u001b[39mmax\u001b[39m\n\u001b[1;32m     <a href='vscode-notebook-cell://attached-container%2B7b22636f6e7461696e65724e616d65223a222f616e61636f6e64612d616e61636f6e6461332d31227d/opt/notebooks/notebooks/letcode.ipynb#ch0000014vscode-remote?line=23'>24</a>\u001b[0m sol\u001b[39m=\u001b[39mSolution()\n\u001b[0;32m---> <a href='vscode-notebook-cell://attached-container%2B7b22636f6e7461696e65724e616d65223a222f616e61636f6e64612d616e61636f6e6461332d31227d/opt/notebooks/notebooks/letcode.ipynb#ch0000014vscode-remote?line=24'>25</a>\u001b[0m sol\u001b[39m.\u001b[39;49mlengthOfLongestSubstring(\u001b[39m\"\u001b[39;49m\u001b[39mbbbbbbb\u001b[39;49m\u001b[39m\"\u001b[39;49m)\n",
      "\u001b[1;32m/opt/notebooks/notebooks/letcode.ipynb Celda 10\u001b[0m in \u001b[0;36mSolution.lengthOfLongestSubstring\u001b[0;34m(self, s)\u001b[0m\n\u001b[1;32m      <a href='vscode-notebook-cell://attached-container%2B7b22636f6e7461696e65724e616d65223a222f616e61636f6e64612d616e61636f6e6461332d31227d/opt/notebooks/notebooks/letcode.ipynb#ch0000014vscode-remote?line=5'>6</a>\u001b[0m long \u001b[39m=\u001b[39m \u001b[39mlen\u001b[39m(s)\n\u001b[1;32m      <a href='vscode-notebook-cell://attached-container%2B7b22636f6e7461696e65724e616d65223a222f616e61636f6e64612d616e61636f6e6461332d31227d/opt/notebooks/notebooks/letcode.ipynb#ch0000014vscode-remote?line=6'>7</a>\u001b[0m \u001b[39mwhile\u001b[39;00m \u001b[39mTrue\u001b[39;00m:\n\u001b[0;32m----> <a href='vscode-notebook-cell://attached-container%2B7b22636f6e7461696e65724e616d65223a222f616e61636f6e64612d616e61636f6e6461332d31227d/opt/notebooks/notebooks/letcode.ipynb#ch0000014vscode-remote?line=7'>8</a>\u001b[0m     \u001b[39mprint\u001b[39m(s[ini:fin:\u001b[39m1\u001b[39m],\u001b[39m\"\u001b[39m\u001b[39m \u001b[39m\u001b[39m\"\u001b[39m,s[fin],\u001b[39m\"\u001b[39m\u001b[39m \u001b[39m\u001b[39m\"\u001b[39m,\u001b[39mmax\u001b[39m)\n\u001b[1;32m      <a href='vscode-notebook-cell://attached-container%2B7b22636f6e7461696e65724e616d65223a222f616e61636f6e64612d616e61636f6e6461332d31227d/opt/notebooks/notebooks/letcode.ipynb#ch0000014vscode-remote?line=8'>9</a>\u001b[0m     subs \u001b[39m=\u001b[39m s[ini:fin:\u001b[39m1\u001b[39m]\n\u001b[1;32m     <a href='vscode-notebook-cell://attached-container%2B7b22636f6e7461696e65724e616d65223a222f616e61636f6e64612d616e61636f6e6461332d31227d/opt/notebooks/notebooks/letcode.ipynb#ch0000014vscode-remote?line=9'>10</a>\u001b[0m     \u001b[39mprint\u001b[39m(fin \u001b[39m-\u001b[39mini,((fin\u001b[39m-\u001b[39mini)\u001b[39m>\u001b[39m\u001b[39m=\u001b[39m\u001b[39mmax\u001b[39m))\n",
      "\u001b[0;31mIndexError\u001b[0m: string index out of range"
     ]
    }
   ],
   "source": [
    "class Solution:\n",
    "    def lengthOfLongestSubstring(self, s: str) -> int:\n",
    "        max=0\n",
    "        ini=0\n",
    "        fin=1\n",
    "        long = len(s)\n",
    "        while True:\n",
    "            print(s[ini:fin:1],\" \",s[fin],\" \",max)\n",
    "            subs = s[ini:fin:1]\n",
    "            print(fin -ini,((fin-ini)>=max))\n",
    "            if s[fin] not in subs:\n",
    "                if fin-ini>max:\n",
    "                    print('cambio')\n",
    "                    max = (fin-ini)\n",
    "                fin = fin+1\n",
    "            else:\n",
    "                ini=fin \n",
    "                if ini<long-1:\n",
    "                    fin = ini+1\n",
    "                else:\n",
    "                    fin=0\n",
    "        return max\n",
    "    \n",
    "sol=Solution()\n",
    "sol.lengthOfLongestSubstring(\"bbbbbbb\")"
   ]
  },
  {
   "cell_type": "markdown",
   "metadata": {},
   "source": [
    "234- Palindrome Linked List\n",
    "Given the head of a singly linked list, return true if it is a palindrome.\n",
    "\n",
    "Example 1:\n",
    "Input: head = [1,2,2,1]\n",
    "Output: true\n",
    "\n",
    "Example 2:\n",
    "Input: head = [1,2]\n",
    "Output: false\n",
    "\n",
    "Constraints:\n",
    "The number of nodes in the list is in the range [1, 105].\n",
    "0 <= Node.val <= 9\n",
    "\n",
    "Follow up: Could you do it in O(n) time and O(1) space?"
   ]
  },
  {
   "cell_type": "code",
   "execution_count": 4,
   "metadata": {},
   "outputs": [],
   "source": [
    "class Solution:\n",
    "    def isPalindrome(self, head: Optional[ListNode]) -> bool:\n",
    "        if isinstance(head,ListNode):\n",
    "            tmp = head\n",
    "            converted=[]\n",
    "            while True:\n",
    "                print(tmp.val)\n",
    "                converted.append(tmp.val)\n",
    "                if tmp.next != None:\n",
    "                    tmp = tmp.next\n",
    "                else:\n",
    "                    break\n",
    "        else:\n",
    "            converted=head\n",
    "        inversed = converted[::-1]\n",
    "        if inversed == converted:\n",
    "            return True\n",
    "        else:\n",
    "            return False"
   ]
  },
  {
   "cell_type": "code",
   "execution_count": 5,
   "metadata": {},
   "outputs": [
    {
     "data": {
      "text/plain": [
       "True"
      ]
     },
     "execution_count": 5,
     "metadata": {},
     "output_type": "execute_result"
    }
   ],
   "source": [
    "sol = Solution()\n",
    "sol.isPalindrome(head=[1,2,1])"
   ]
  },
  {
   "cell_type": "markdown",
   "metadata": {},
   "source": [
    "2235- Add Two Integers\n",
    "Given two integers num1 and num2, return the sum of the two integers.\n",
    "\n",
    "Example 1:\n",
    "Input: num1 = 12, num2 = 5\n",
    "Output: 17\n",
    "Explanation: num1 is 12, num2 is 5, and their sum is 12 + 5 = 17, so 17 is returned.\n",
    "\n",
    "Example 2:\n",
    "Input: num1 = -10, num2 = 4\n",
    "Output: -6\n",
    "Explanation: num1 + num2 = -6, so -6 is returned.\n",
    "\n",
    "Constraints:\n",
    "-100 <= num1, num2 <= 100"
   ]
  },
  {
   "cell_type": "code",
   "execution_count": null,
   "metadata": {},
   "outputs": [],
   "source": [
    "class Solution:\n",
    "    def sum(self, num1: int, num2: int) -> int:\n",
    "        return num1 + num2"
   ]
  }
 ],
 "metadata": {
  "kernelspec": {
   "display_name": "Python 3.9.12 64-bit",
   "language": "python",
   "name": "python3"
  },
  "language_info": {
   "codemirror_mode": {
    "name": "ipython",
    "version": 3
   },
   "file_extension": ".py",
   "mimetype": "text/x-python",
   "name": "python",
   "nbconvert_exporter": "python",
   "pygments_lexer": "ipython3",
   "version": "3.9.12"
  },
  "orig_nbformat": 4,
  "vscode": {
   "interpreter": {
    "hash": "d4d1e4263499bec80672ea0156c357c1ee493ec2b1c70f0acce89fc37c4a6abe"
   }
  }
 },
 "nbformat": 4,
 "nbformat_minor": 2
}
